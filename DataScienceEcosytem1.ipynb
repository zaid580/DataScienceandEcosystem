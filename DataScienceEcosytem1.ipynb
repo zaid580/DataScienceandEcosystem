{
 "cells": [
  {
   "cell_type": "markdown",
   "id": "ccc674c1",
   "metadata": {},
   "source": [
    "# DataScienceEcosystem"
   ]
  },
  {
   "cell_type": "markdown",
   "id": "89799924",
   "metadata": {},
   "source": [
    "In this notebook, Data Science Tools and Ecosystem are summarized."
   ]
  },
  {
   "cell_type": "markdown",
   "id": "f9c53a66",
   "metadata": {},
   "source": [
    "some of the popular language that Data Science use are:\n"
   ]
  },
  {
   "cell_type": "markdown",
   "id": "0da251d4",
   "metadata": {},
   "source": [
    "1.  Python\n",
    "2. R\n",
    "3. SQL\n",
    "4. C++\n",
    "5. JAVA>etc.."
   ]
  },
  {
   "cell_type": "markdown",
   "id": "b4bdd30e",
   "metadata": {},
   "source": [
    "some of the Commonly used libraries used by Data Scientist include:"
   ]
  },
  {
   "cell_type": "markdown",
   "id": "1c4b11fb",
   "metadata": {},
   "source": [
    "1. TensorFlow.\n",
    "2. Numpy.\n",
    "3. Sipy.\n",
    "4. Pandas.\n",
    "5. MatPlotlib.\n",
    "6. Keras.\n",
    "7. SCKiT-learn.\n",
    "8. PYTORCH.etc."
   ]
  },
  {
   "cell_type": "markdown",
   "id": "5d9d19a9",
   "metadata": {},
   "source": [
    "|Data Science Tools|\n",
    "|---\n",
    "|SAS \n",
    "|Apches Hadoop|\n",
    "|TensorFlow|"
   ]
  },
  {
   "cell_type": "markdown",
   "id": "56cf207e",
   "metadata": {},
   "source": [
    "# Blow are a few examples of evaluating arithmetic expression in python."
   ]
  },
  {
   "cell_type": "code",
   "execution_count": 1,
   "id": "34e10532",
   "metadata": {},
   "outputs": [
    {
     "data": {
      "text/plain": [
       "17"
      ]
     },
     "execution_count": 1,
     "metadata": {},
     "output_type": "execute_result"
    }
   ],
   "source": [
    "#this is a common arithmetic examle to multiply and then odd integers \n",
    "(3*4)+5"
   ]
  },
  {
   "cell_type": "code",
   "execution_count": 2,
   "id": "2118a189",
   "metadata": {},
   "outputs": [
    {
     "data": {
      "text/plain": [
       "3.3333333333333335"
      ]
     },
     "execution_count": 2,
     "metadata": {},
     "output_type": "execute_result"
    }
   ],
   "source": [
    "#this will convert 200 minutes to hours by diving by 60\n",
    "200/60\n"
   ]
  },
  {
   "cell_type": "markdown",
   "id": "bcef41dc",
   "metadata": {},
   "source": [
    "# objective\n",
    "*  list popular language for Data Science \n",
    "* list popular libraries for Data Science\n",
    "* list of Well Know Data Science Tools\n",
    "* How to provid Comments in the cell "
   ]
  },
  {
   "cell_type": "markdown",
   "id": "3e1362d5",
   "metadata": {},
   "source": [
    "## Author \n",
    "Muhammad zaid"
   ]
  },
  {
   "cell_type": "code",
   "execution_count": null,
   "id": "621cce29",
   "metadata": {},
   "outputs": [],
   "source": []
  }
 ],
 "metadata": {
  "kernelspec": {
   "display_name": "Python 3 (ipykernel)",
   "language": "python",
   "name": "python3"
  },
  "language_info": {
   "codemirror_mode": {
    "name": "ipython",
    "version": 3
   },
   "file_extension": ".py",
   "mimetype": "text/x-python",
   "name": "python",
   "nbconvert_exporter": "python",
   "pygments_lexer": "ipython3",
   "version": "3.10.9"
  }
 },
 "nbformat": 4,
 "nbformat_minor": 5
}
